{
  "nbformat": 4,
  "nbformat_minor": 0,
  "metadata": {
    "colab": {
      "provenance": []
    },
    "kernelspec": {
      "name": "python3",
      "display_name": "Python 3"
    },
    "language_info": {
      "name": "python"
    }
  },
  "cells": [
    {
      "cell_type": "code",
      "execution_count": 31,
      "metadata": {
        "colab": {
          "base_uri": "https://localhost:8080/"
        },
        "id": "I0vsyQf1VDOp",
        "outputId": "8573106f-372c-4c6b-9682-cea3b8a29926"
      },
      "outputs": [
        {
          "output_type": "stream",
          "name": "stdout",
          "text": [
            "enter the wordpython\n",
            "list after deletion ['y', 'h', 'o', 'n']\n",
            "After reversing: nohy\n"
          ]
        }
      ],
      "source": [
        "#Q1\n",
        "list1=list(input('enter the word'))   #accepting the input from the user and converting to list\n",
        "for i in range(0,2):                  #loop through index 0 and index1\n",
        "  del list1[i]                        #deleting the index 0 and index1 elements\n",
        "print('list after deletion',list1)\n",
        "list1.reverse()                       #reversing the list\n",
        "output=''.join(list1)                 #joining back as string\n",
        "print('After reversing:',output)"
      ]
    },
    {
      "cell_type": "code",
      "source": [
        "#Q1\n",
        "num1=float(input('enter first number'))  #taking first number from user\n",
        "num2=float(input('enter second number')) #taking second number from user\n",
        "\n",
        "print('Addition:',num1+num2)           #performing multiple operations and handling the division by zero error\n",
        "print('Subtraction:',num1-num2)\n",
        "print('multiplication:',num1*num2)\n",
        "if num2!=0:\n",
        "  print('division:',num1/num2)\n",
        "else:\n",
        "  print('number2 cannot be zero for division')"
      ],
      "metadata": {
        "colab": {
          "base_uri": "https://localhost:8080/"
        },
        "id": "jh7XrwQNaRgT",
        "outputId": "dfd743b9-228f-44fc-b5b1-251db8987cfe"
      },
      "execution_count": 34,
      "outputs": [
        {
          "output_type": "stream",
          "name": "stdout",
          "text": [
            "enter first number1\n",
            "enter second number0\n",
            "Addition: 1.0\n",
            "Subtraction: 1.0\n",
            "multiplication: 0.0\n",
            "number2 cannot be zero for division\n"
          ]
        }
      ]
    },
    {
      "cell_type": "code",
      "source": [
        "#Q2\n",
        "str1=str(input('enter the sentence'))          #accepting sentence as string\n",
        "print('given sentence:',str1)\n",
        "print('replaced sentence:',str1.replace('python','pythons'))  #replacing using .replace()\n"
      ],
      "metadata": {
        "colab": {
          "base_uri": "https://localhost:8080/"
        },
        "id": "2oMhBwx1dCGd",
        "outputId": "d076c6c6-e6c7-4f2b-da1e-b1035308282f"
      },
      "execution_count": 27,
      "outputs": [
        {
          "output_type": "stream",
          "name": "stdout",
          "text": [
            "enter the sentencepython is a python\n",
            "given sentence: python is a python\n",
            "replaced sentence: pythons is a pythons\n"
          ]
        }
      ]
    },
    {
      "cell_type": "code",
      "source": [
        "#Q3\n",
        "input1=float(input('enter the score'))  #accepting the input from user\n",
        "if 90<= input1 <= 100:                  #checking and printing grade using if else\n",
        "  print('A')\n",
        "elif 80<= input1 < 90:\n",
        "  print('B')\n",
        "elif 70<= input1 < 80:\n",
        "  print('c')\n",
        "elif 60<= input1 < 70:\n",
        "  print('D')\n",
        "elif 0<= input1< 60:\n",
        "  print('F')\n",
        "else:\n",
        "  print('score must be between 0-100')  #handling edge cases\n"
      ],
      "metadata": {
        "colab": {
          "base_uri": "https://localhost:8080/"
        },
        "id": "2UIP-c3ufE_I",
        "outputId": "747f5199-26c7-4016-e799-faed1dc09562"
      },
      "execution_count": 30,
      "outputs": [
        {
          "output_type": "stream",
          "name": "stdout",
          "text": [
            "enter the percentage-34\n",
            "perncentage must be between 0-100\n"
          ]
        }
      ]
    }
  ]
}